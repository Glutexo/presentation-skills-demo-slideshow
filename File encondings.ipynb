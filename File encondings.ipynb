{
 "cells": [
  {
   "cell_type": "markdown",
   "metadata": {
    "slideshow": {
     "slide_type": "slide"
    }
   },
   "source": [
    "# Plain text #\n",
    "\n",
    "Not that plain."
   ]
  },
  {
   "cell_type": "markdown",
   "metadata": {
    "slideshow": {
     "slide_type": "fragment"
    }
   },
   "source": [
    "```ruby\n",
    "str = 'My fiancée is rather naïve.'\n",
    "```"
   ]
  },
  {
   "cell_type": "markdown",
   "metadata": {
    "slideshow": {
     "slide_type": "notes"
    }
   },
   "source": [
    "Every plain text **must** have an encoding information attached. Without encoding, it is just a sequence of bytes.\n",
    "\n",
    "In a source code, the encoding does not affect only strings. Non-ASCII characters can be used in symbols too."
   ]
  },
  {
   "cell_type": "markdown",
   "metadata": {
    "slideshow": {
     "slide_type": "slide"
    }
   },
   "source": [
    "# Default encoding #"
   ]
  },
  {
   "cell_type": "markdown",
   "metadata": {
    "slideshow": {
     "slide_type": "fragment"
    }
   },
   "source": [
    "## Ruby < 2.0\n",
    "\n",
    "```\n",
    "irb(main):002:0> __ENCODING__\n",
    "=> #<Encoding:US-ASCII>\n",
    "```\n",
    "\n",
    "## Ruby > 2.0\n",
    "\n",
    "```\n",
    "irb(main):002:0> __ENCODING__\n",
    "=> #<Encoding:UTF-8>\n",
    "```"
   ]
  },
  {
   "cell_type": "markdown",
   "metadata": {
    "slideshow": {
     "slide_type": "slide"
    }
   },
   "source": [
    "# Solutions #"
   ]
  },
  {
   "cell_type": "markdown",
   "metadata": {
    "slideshow": {
     "slide_type": "fragment"
    }
   },
   "source": [
    "## Magic comment ##\n",
    "\n",
    "### Ruby ###\n",
    "\n",
    "```ruby\n",
    "# Encoding: utf-8\n",
    "```\n",
    "\n",
    "### Python ###\n",
    "\n",
    "```python\n",
    "# -*- coding: utf-8 -*-\n",
    "```"
   ]
  },
  {
   "cell_type": "markdown",
   "metadata": {
    "slideshow": {
     "slide_type": "notes"
    }
   },
   "source": [
    "Works only for ASCII compatible encodings."
   ]
  },
  {
   "cell_type": "markdown",
   "metadata": {
    "slideshow": {
     "slide_type": "fragment"
    }
   },
   "source": [
    "## Byte order mark ##"
   ]
  },
  {
   "cell_type": "markdown",
   "metadata": {
    "slideshow": {
     "slide_type": "notes"
    }
   },
   "source": [
    "Usable only for Unicode."
   ]
  },
  {
   "cell_type": "markdown",
   "metadata": {
    "slideshow": {
     "slide_type": "slide"
    }
   },
   "source": [
    "# Problems #"
   ]
  },
  {
   "cell_type": "markdown",
   "metadata": {
    "slideshow": {
     "slide_type": "fragment"
    }
   },
   "source": [
    "## Shebang ##\n",
    "\n",
    "```python\n",
    "#!/Users/François/project/bin/python\n",
    "# -*- coding: utf-8 -*-\n",
    "print 'Bonjour!'\n",
    "```"
   ]
  },
  {
   "cell_type": "markdown",
   "metadata": {
    "slideshow": {
     "slide_type": "notes"
    }
   },
   "source": [
    "The non-ASCII character appears before the magic comment. But the shebang must be the first line.\n",
    "\n",
    "BOM does not help, because it makes the shebang invalid."
   ]
  }
 ],
 "metadata": {
  "celltoolbar": "Slideshow",
  "kernelspec": {
   "display_name": "Ruby 2.5.1",
   "language": "ruby",
   "name": "ruby"
  },
  "language_info": {
   "file_extension": ".rb",
   "mimetype": "application/x-ruby",
   "name": "ruby",
   "version": "2.5.1"
  }
 },
 "nbformat": 4,
 "nbformat_minor": 2
}
